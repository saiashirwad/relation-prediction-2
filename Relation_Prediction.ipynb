{
  "nbformat": 4,
  "nbformat_minor": 0,
  "metadata": {
    "colab": {
      "name": "Relation Prediction.ipynb",
      "provenance": [],
      "collapsed_sections": [],
      "machine_shape": "hm",
      "mount_file_id": "1oNre-UhqlqMdISfOhJxnnAha7sV7-93K",
      "authorship_tag": "ABX9TyN+YPKXa0COKEm1K+gXo+DX",
      "include_colab_link": true
    },
    "kernelspec": {
      "name": "python3",
      "display_name": "Python 3"
    },
    "accelerator": "GPU",
    "widgets": {
      "application/vnd.jupyter.widget-state+json": {
        "d4042b5127d84bc2a1c52161ac1b348d": {
          "model_module": "@jupyter-widgets/controls",
          "model_name": "HBoxModel",
          "state": {
            "_view_name": "HBoxView",
            "_dom_classes": [],
            "_model_name": "HBoxModel",
            "_view_module": "@jupyter-widgets/controls",
            "_model_module_version": "1.5.0",
            "_view_count": null,
            "_view_module_version": "1.5.0",
            "box_style": "",
            "layout": "IPY_MODEL_bebe2c05afe140988e2ccf691cdea437",
            "_model_module": "@jupyter-widgets/controls",
            "children": [
              "IPY_MODEL_17678eb7802643eaa4263f5cf17177aa",
              "IPY_MODEL_0cb753a1c3d94c5bb2402e3a7043a5bf"
            ]
          }
        },
        "bebe2c05afe140988e2ccf691cdea437": {
          "model_module": "@jupyter-widgets/base",
          "model_name": "LayoutModel",
          "state": {
            "_view_name": "LayoutView",
            "grid_template_rows": null,
            "right": null,
            "justify_content": null,
            "_view_module": "@jupyter-widgets/base",
            "overflow": null,
            "_model_module_version": "1.2.0",
            "_view_count": null,
            "flex_flow": null,
            "width": null,
            "min_width": null,
            "border": null,
            "align_items": null,
            "bottom": null,
            "_model_module": "@jupyter-widgets/base",
            "top": null,
            "grid_column": null,
            "overflow_y": null,
            "overflow_x": null,
            "grid_auto_flow": null,
            "grid_area": null,
            "grid_template_columns": null,
            "flex": null,
            "_model_name": "LayoutModel",
            "justify_items": null,
            "grid_row": null,
            "max_height": null,
            "align_content": null,
            "visibility": null,
            "align_self": null,
            "height": null,
            "min_height": null,
            "padding": null,
            "grid_auto_rows": null,
            "grid_gap": null,
            "max_width": null,
            "order": null,
            "_view_module_version": "1.2.0",
            "grid_template_areas": null,
            "object_position": null,
            "object_fit": null,
            "grid_auto_columns": null,
            "margin": null,
            "display": null,
            "left": null
          }
        },
        "17678eb7802643eaa4263f5cf17177aa": {
          "model_module": "@jupyter-widgets/controls",
          "model_name": "IntProgressModel",
          "state": {
            "_view_name": "ProgressView",
            "style": "IPY_MODEL_c08a3a92272c405880e559593324f381",
            "_dom_classes": [],
            "description": "100%",
            "_model_name": "IntProgressModel",
            "bar_style": "success",
            "max": 5,
            "_view_module": "@jupyter-widgets/controls",
            "_model_module_version": "1.5.0",
            "value": 5,
            "_view_count": null,
            "_view_module_version": "1.5.0",
            "orientation": "horizontal",
            "min": 0,
            "description_tooltip": null,
            "_model_module": "@jupyter-widgets/controls",
            "layout": "IPY_MODEL_1c18391fc0094b66b293bfeaf08d84a2"
          }
        },
        "0cb753a1c3d94c5bb2402e3a7043a5bf": {
          "model_module": "@jupyter-widgets/controls",
          "model_name": "HTMLModel",
          "state": {
            "_view_name": "HTMLView",
            "style": "IPY_MODEL_7be86adb50f3482bb8b78a87359bd6f4",
            "_dom_classes": [],
            "description": "",
            "_model_name": "HTMLModel",
            "placeholder": "​",
            "_view_module": "@jupyter-widgets/controls",
            "_model_module_version": "1.5.0",
            "value": " 5/5 [00:44&lt;00:00,  8.93s/it]",
            "_view_count": null,
            "_view_module_version": "1.5.0",
            "description_tooltip": null,
            "_model_module": "@jupyter-widgets/controls",
            "layout": "IPY_MODEL_a12290c78da64f3ea904b7e6f66c1841"
          }
        },
        "c08a3a92272c405880e559593324f381": {
          "model_module": "@jupyter-widgets/controls",
          "model_name": "ProgressStyleModel",
          "state": {
            "_view_name": "StyleView",
            "_model_name": "ProgressStyleModel",
            "description_width": "initial",
            "_view_module": "@jupyter-widgets/base",
            "_model_module_version": "1.5.0",
            "_view_count": null,
            "_view_module_version": "1.2.0",
            "bar_color": null,
            "_model_module": "@jupyter-widgets/controls"
          }
        },
        "1c18391fc0094b66b293bfeaf08d84a2": {
          "model_module": "@jupyter-widgets/base",
          "model_name": "LayoutModel",
          "state": {
            "_view_name": "LayoutView",
            "grid_template_rows": null,
            "right": null,
            "justify_content": null,
            "_view_module": "@jupyter-widgets/base",
            "overflow": null,
            "_model_module_version": "1.2.0",
            "_view_count": null,
            "flex_flow": null,
            "width": null,
            "min_width": null,
            "border": null,
            "align_items": null,
            "bottom": null,
            "_model_module": "@jupyter-widgets/base",
            "top": null,
            "grid_column": null,
            "overflow_y": null,
            "overflow_x": null,
            "grid_auto_flow": null,
            "grid_area": null,
            "grid_template_columns": null,
            "flex": null,
            "_model_name": "LayoutModel",
            "justify_items": null,
            "grid_row": null,
            "max_height": null,
            "align_content": null,
            "visibility": null,
            "align_self": null,
            "height": null,
            "min_height": null,
            "padding": null,
            "grid_auto_rows": null,
            "grid_gap": null,
            "max_width": null,
            "order": null,
            "_view_module_version": "1.2.0",
            "grid_template_areas": null,
            "object_position": null,
            "object_fit": null,
            "grid_auto_columns": null,
            "margin": null,
            "display": null,
            "left": null
          }
        },
        "7be86adb50f3482bb8b78a87359bd6f4": {
          "model_module": "@jupyter-widgets/controls",
          "model_name": "DescriptionStyleModel",
          "state": {
            "_view_name": "StyleView",
            "_model_name": "DescriptionStyleModel",
            "description_width": "",
            "_view_module": "@jupyter-widgets/base",
            "_model_module_version": "1.5.0",
            "_view_count": null,
            "_view_module_version": "1.2.0",
            "_model_module": "@jupyter-widgets/controls"
          }
        },
        "a12290c78da64f3ea904b7e6f66c1841": {
          "model_module": "@jupyter-widgets/base",
          "model_name": "LayoutModel",
          "state": {
            "_view_name": "LayoutView",
            "grid_template_rows": null,
            "right": null,
            "justify_content": null,
            "_view_module": "@jupyter-widgets/base",
            "overflow": null,
            "_model_module_version": "1.2.0",
            "_view_count": null,
            "flex_flow": null,
            "width": null,
            "min_width": null,
            "border": null,
            "align_items": null,
            "bottom": null,
            "_model_module": "@jupyter-widgets/base",
            "top": null,
            "grid_column": null,
            "overflow_y": null,
            "overflow_x": null,
            "grid_auto_flow": null,
            "grid_area": null,
            "grid_template_columns": null,
            "flex": null,
            "_model_name": "LayoutModel",
            "justify_items": null,
            "grid_row": null,
            "max_height": null,
            "align_content": null,
            "visibility": null,
            "align_self": null,
            "height": null,
            "min_height": null,
            "padding": null,
            "grid_auto_rows": null,
            "grid_gap": null,
            "max_width": null,
            "order": null,
            "_view_module_version": "1.2.0",
            "grid_template_areas": null,
            "object_position": null,
            "object_fit": null,
            "grid_auto_columns": null,
            "margin": null,
            "display": null,
            "left": null
          }
        },
        "c2bad778a05248e0bf5e9c8549dfaa4c": {
          "model_module": "@jupyter-widgets/controls",
          "model_name": "HBoxModel",
          "state": {
            "_view_name": "HBoxView",
            "_dom_classes": [],
            "_model_name": "HBoxModel",
            "_view_module": "@jupyter-widgets/controls",
            "_model_module_version": "1.5.0",
            "_view_count": null,
            "_view_module_version": "1.5.0",
            "box_style": "",
            "layout": "IPY_MODEL_d0955d076ce0493a8e53a3e928fa4bd6",
            "_model_module": "@jupyter-widgets/controls",
            "children": [
              "IPY_MODEL_2b1ef7bd6f28470e80d44d5546c17a8b",
              "IPY_MODEL_0df8ba9bd0e443859c6c628d2110a341"
            ]
          }
        },
        "d0955d076ce0493a8e53a3e928fa4bd6": {
          "model_module": "@jupyter-widgets/base",
          "model_name": "LayoutModel",
          "state": {
            "_view_name": "LayoutView",
            "grid_template_rows": null,
            "right": null,
            "justify_content": null,
            "_view_module": "@jupyter-widgets/base",
            "overflow": null,
            "_model_module_version": "1.2.0",
            "_view_count": null,
            "flex_flow": null,
            "width": null,
            "min_width": null,
            "border": null,
            "align_items": null,
            "bottom": null,
            "_model_module": "@jupyter-widgets/base",
            "top": null,
            "grid_column": null,
            "overflow_y": null,
            "overflow_x": null,
            "grid_auto_flow": null,
            "grid_area": null,
            "grid_template_columns": null,
            "flex": null,
            "_model_name": "LayoutModel",
            "justify_items": null,
            "grid_row": null,
            "max_height": null,
            "align_content": null,
            "visibility": null,
            "align_self": null,
            "height": null,
            "min_height": null,
            "padding": null,
            "grid_auto_rows": null,
            "grid_gap": null,
            "max_width": null,
            "order": null,
            "_view_module_version": "1.2.0",
            "grid_template_areas": null,
            "object_position": null,
            "object_fit": null,
            "grid_auto_columns": null,
            "margin": null,
            "display": null,
            "left": null
          }
        },
        "2b1ef7bd6f28470e80d44d5546c17a8b": {
          "model_module": "@jupyter-widgets/controls",
          "model_name": "IntProgressModel",
          "state": {
            "_view_name": "ProgressView",
            "style": "IPY_MODEL_de0122a2f46b4a269c7a5719957fadb9",
            "_dom_classes": [],
            "description": "100%",
            "_model_name": "IntProgressModel",
            "bar_style": "success",
            "max": 1000,
            "_view_module": "@jupyter-widgets/controls",
            "_model_module_version": "1.5.0",
            "value": 1000,
            "_view_count": null,
            "_view_module_version": "1.5.0",
            "orientation": "horizontal",
            "min": 0,
            "description_tooltip": null,
            "_model_module": "@jupyter-widgets/controls",
            "layout": "IPY_MODEL_d6301bd44a274c538e9fad136c440e49"
          }
        },
        "0df8ba9bd0e443859c6c628d2110a341": {
          "model_module": "@jupyter-widgets/controls",
          "model_name": "HTMLModel",
          "state": {
            "_view_name": "HTMLView",
            "style": "IPY_MODEL_69dde82793124d4582adff26248b4f1c",
            "_dom_classes": [],
            "description": "",
            "_model_name": "HTMLModel",
            "placeholder": "​",
            "_view_module": "@jupyter-widgets/controls",
            "_model_module_version": "1.5.0",
            "value": " 1000/1000 [00:40&lt;00:00, 24.41it/s]",
            "_view_count": null,
            "_view_module_version": "1.5.0",
            "description_tooltip": null,
            "_model_module": "@jupyter-widgets/controls",
            "layout": "IPY_MODEL_d6a92c53a8b14453a2802070d36720d5"
          }
        },
        "de0122a2f46b4a269c7a5719957fadb9": {
          "model_module": "@jupyter-widgets/controls",
          "model_name": "ProgressStyleModel",
          "state": {
            "_view_name": "StyleView",
            "_model_name": "ProgressStyleModel",
            "description_width": "initial",
            "_view_module": "@jupyter-widgets/base",
            "_model_module_version": "1.5.0",
            "_view_count": null,
            "_view_module_version": "1.2.0",
            "bar_color": null,
            "_model_module": "@jupyter-widgets/controls"
          }
        },
        "d6301bd44a274c538e9fad136c440e49": {
          "model_module": "@jupyter-widgets/base",
          "model_name": "LayoutModel",
          "state": {
            "_view_name": "LayoutView",
            "grid_template_rows": null,
            "right": null,
            "justify_content": null,
            "_view_module": "@jupyter-widgets/base",
            "overflow": null,
            "_model_module_version": "1.2.0",
            "_view_count": null,
            "flex_flow": null,
            "width": null,
            "min_width": null,
            "border": null,
            "align_items": null,
            "bottom": null,
            "_model_module": "@jupyter-widgets/base",
            "top": null,
            "grid_column": null,
            "overflow_y": null,
            "overflow_x": null,
            "grid_auto_flow": null,
            "grid_area": null,
            "grid_template_columns": null,
            "flex": null,
            "_model_name": "LayoutModel",
            "justify_items": null,
            "grid_row": null,
            "max_height": null,
            "align_content": null,
            "visibility": null,
            "align_self": null,
            "height": null,
            "min_height": null,
            "padding": null,
            "grid_auto_rows": null,
            "grid_gap": null,
            "max_width": null,
            "order": null,
            "_view_module_version": "1.2.0",
            "grid_template_areas": null,
            "object_position": null,
            "object_fit": null,
            "grid_auto_columns": null,
            "margin": null,
            "display": null,
            "left": null
          }
        },
        "69dde82793124d4582adff26248b4f1c": {
          "model_module": "@jupyter-widgets/controls",
          "model_name": "DescriptionStyleModel",
          "state": {
            "_view_name": "StyleView",
            "_model_name": "DescriptionStyleModel",
            "description_width": "",
            "_view_module": "@jupyter-widgets/base",
            "_model_module_version": "1.5.0",
            "_view_count": null,
            "_view_module_version": "1.2.0",
            "_model_module": "@jupyter-widgets/controls"
          }
        },
        "d6a92c53a8b14453a2802070d36720d5": {
          "model_module": "@jupyter-widgets/base",
          "model_name": "LayoutModel",
          "state": {
            "_view_name": "LayoutView",
            "grid_template_rows": null,
            "right": null,
            "justify_content": null,
            "_view_module": "@jupyter-widgets/base",
            "overflow": null,
            "_model_module_version": "1.2.0",
            "_view_count": null,
            "flex_flow": null,
            "width": null,
            "min_width": null,
            "border": null,
            "align_items": null,
            "bottom": null,
            "_model_module": "@jupyter-widgets/base",
            "top": null,
            "grid_column": null,
            "overflow_y": null,
            "overflow_x": null,
            "grid_auto_flow": null,
            "grid_area": null,
            "grid_template_columns": null,
            "flex": null,
            "_model_name": "LayoutModel",
            "justify_items": null,
            "grid_row": null,
            "max_height": null,
            "align_content": null,
            "visibility": null,
            "align_self": null,
            "height": null,
            "min_height": null,
            "padding": null,
            "grid_auto_rows": null,
            "grid_gap": null,
            "max_width": null,
            "order": null,
            "_view_module_version": "1.2.0",
            "grid_template_areas": null,
            "object_position": null,
            "object_fit": null,
            "grid_auto_columns": null,
            "margin": null,
            "display": null,
            "left": null
          }
        }
      }
    }
  },
  "cells": [
    {
      "cell_type": "markdown",
      "metadata": {
        "id": "view-in-github",
        "colab_type": "text"
      },
      "source": [
        "<a href=\"https://colab.research.google.com/github/saiashirwad/relation-prediction-2/blob/master/Relation_Prediction.ipynb\" target=\"_parent\"><img src=\"https://colab.research.google.com/assets/colab-badge.svg\" alt=\"Open In Colab\"/></a>"
      ]
    },
    {
      "cell_type": "code",
      "metadata": {
        "id": "60kgRpkWFYdu",
        "colab_type": "code",
        "outputId": "dd465225-dba6-4ce3-a958-8336b5b472b7",
        "colab": {
          "base_uri": "https://localhost:8080/",
          "height": 34
        }
      },
      "source": [
        "cd /content/drive/My Drive/Thesis/code/relation-prediction-2"
      ],
      "execution_count": 1,
      "outputs": [
        {
          "output_type": "stream",
          "text": [
            "/content/drive/My Drive/Thesis/code/relation-prediction-2\n"
          ],
          "name": "stdout"
        }
      ]
    },
    {
      "cell_type": "code",
      "metadata": {
        "id": "d7yK9kZXErI1",
        "colab_type": "code",
        "colab": {}
      },
      "source": [
        "%load_ext autoreload\n",
        "%autoreload "
      ],
      "execution_count": 0,
      "outputs": []
    },
    {
      "cell_type": "code",
      "metadata": {
        "id": "7rzKQzS-hQYa",
        "colab_type": "code",
        "colab": {}
      },
      "source": [
        "import matplotlib.pyplot as plt\n"
      ],
      "execution_count": 0,
      "outputs": []
    },
    {
      "cell_type": "code",
      "metadata": {
        "id": "mPIyfYJWFV0p",
        "colab_type": "code",
        "colab": {}
      },
      "source": [
        "pip install torchkge --quiet"
      ],
      "execution_count": 0,
      "outputs": []
    },
    {
      "cell_type": "code",
      "metadata": {
        "id": "6l4r5emkFpjN",
        "colab_type": "code",
        "colab": {}
      },
      "source": [
        "pip install torch-scatter==latest+cu101 -f https://pytorch-geometric.com/whl/torch-1.4.0.html --quiet"
      ],
      "execution_count": 0,
      "outputs": []
    },
    {
      "cell_type": "code",
      "metadata": {
        "id": "VLaiB3fEFrzp",
        "colab_type": "code",
        "colab": {}
      },
      "source": [
        "from tqdm import * \n",
        "import torch \n",
        "import torch.nn as nn \n",
        "from functools import reduce \n",
        "from operator import mul \n",
        "from torch_scatter import scatter \n",
        "from sklearn.metrics.pairwise import pairwise_distances "
      ],
      "execution_count": 0,
      "outputs": []
    },
    {
      "cell_type": "code",
      "metadata": {
        "id": "x0EjdShxlP12",
        "colab_type": "code",
        "colab": {}
      },
      "source": [
        "from typing import List"
      ],
      "execution_count": 0,
      "outputs": []
    },
    {
      "cell_type": "code",
      "metadata": {
        "id": "FbkDVP8yGSs2",
        "colab_type": "code",
        "colab": {}
      },
      "source": [
        "from train import *"
      ],
      "execution_count": 0,
      "outputs": []
    },
    {
      "cell_type": "code",
      "metadata": {
        "id": "w4VmjZbpGGjc",
        "colab_type": "code",
        "colab": {}
      },
      "source": [
        "kg_train, kg_test, kg_val = load_fb15k237()"
      ],
      "execution_count": 0,
      "outputs": []
    },
    {
      "cell_type": "code",
      "metadata": {
        "id": "_GluE6euGO8a",
        "colab_type": "code",
        "colab": {}
      },
      "source": [
        "args = Args(100, 200, 100, 2, 100, 40000, 0.001, 10, 'cuda', 'sgd')"
      ],
      "execution_count": 0,
      "outputs": []
    },
    {
      "cell_type": "code",
      "metadata": {
        "id": "4s-BKWtsHZul",
        "colab_type": "code",
        "outputId": "e7eb5177-5bf7-45f6-9fc1-2b3f01a25cb9",
        "colab": {
          "base_uri": "https://localhost:8080/",
          "height": 34
        }
      },
      "source": [
        "n_ent, n_rel = kg_train.n_ent, kg_train.n_rel\n",
        "total_triplets = get_valid_triplets(kg_train, kg_test, kg_val)"
      ],
      "execution_count": 11,
      "outputs": [
        {
          "output_type": "stream",
          "text": [
            "Number of unique triplets: 620232\n"
          ],
          "name": "stdout"
        }
      ]
    },
    {
      "cell_type": "code",
      "metadata": {
        "id": "baNBqi9E6u3e",
        "colab_type": "code",
        "colab": {}
      },
      "source": [
        "def loss_transe(triplets, neg_sampling_ratio, ent_embed, rel_embed, device='cpu'):\n",
        "    \"\"\"\n",
        "    Triplets order: src, dst, rel\n",
        "    \"\"\"\n",
        "    n = len(triplets)\n",
        "    if type(triplets) == np.ndarray:\n",
        "        triplets = torch.from_numpy(triplets)\n",
        "\n",
        "    pos_triplets = triplets[:n // (neg_sampling_ratio + 1)]\n",
        "    pos_triplets = torch.cat([pos_triplets for _ in range(neg_sampling_ratio)])\n",
        "\n",
        "    neg_triplets = triplets[n // (neg_sampling_ratio + 1):]\n",
        "\n",
        "\n",
        "    src_embed_ = ent_embed[pos_triplets[:, 0]]\n",
        "    dst_embed_ = ent_embed[pos_triplets[:, 1]]\n",
        "    rel_embed_ = rel_embed[pos_triplets[:, 2]]\n",
        "\n",
        "    x = src_embed_ + rel_embed_ - dst_embed_\n",
        "    pos_norm = torch.norm(x, p=2, dim=1)\n",
        "\n",
        "\n",
        "    src_embed_ = ent_embed[neg_triplets[:, 0]]\n",
        "    dst_embed_ = ent_embed[neg_triplets[:, 1]]\n",
        "    rel_embed_ = rel_embed[neg_triplets[:, 2]]\n",
        "\n",
        "    x = src_embed_ + rel_embed_ - dst_embed_\n",
        "    neg_norm = torch.norm(x, p=2, dim=1)\n",
        "\n",
        "    y = torch.ones(len(pos_triplets)).to(device)\n",
        "\n",
        "    loss_fn = nn.MarginRankingLoss(margin=5)\n",
        "    loss = loss_fn(pos_norm, neg_norm, y)\n",
        "\n",
        "    return loss\n"
      ],
      "execution_count": 0,
      "outputs": []
    },
    {
      "cell_type": "code",
      "metadata": {
        "id": "JLazSeLdHcHs",
        "colab_type": "code",
        "colab": {}
      },
      "source": [
        "dataloader = DataLoader(kg_train, batch_size=args.batch_size, shuffle=False, pin_memory=cuda.is_available())\n",
        "ent_embed, rel_embed = get_init_embed()"
      ],
      "execution_count": 0,
      "outputs": []
    },
    {
      "cell_type": "code",
      "metadata": {
        "id": "qKxQY7TwHlZH",
        "colab_type": "code",
        "colab": {}
      },
      "source": [
        "batches = [b for b in dataloader]"
      ],
      "execution_count": 0,
      "outputs": []
    },
    {
      "cell_type": "code",
      "metadata": {
        "id": "Pn7Vm7jJUeJz",
        "colab_type": "code",
        "colab": {}
      },
      "source": [
        "class SNAFunction(torch.autograd.Function):\n",
        "    @staticmethod\n",
        "    def forward(ctx, edge, edge_w, N, E, out_features):\n",
        "        a = torch.sparse_coo_tensor(\n",
        "            edge, edge_w, torch.Size([N, N, out_features]))\n",
        "        b = torch.sparse.sum(a, dim=1)\n",
        "        ctx.N = b.shape[0]\n",
        "        ctx.outfeat = b.shape[1]\n",
        "        ctx.E = E\n",
        "        ctx.indices = a._indices()[0, :]\n",
        "\n",
        "        return b.to_dense()\n",
        "\n",
        "    @staticmethod\n",
        "    def backward(ctx, grad_output):\n",
        "        grad_values = None\n",
        "        if ctx.needs_input_grad[1]:\n",
        "            edge_sources = ctx.indices\n",
        "\n",
        "            if(torch.cuda.is_available()):\n",
        "                edge_sources = edge_sources.cuda()\n",
        "\n",
        "            grad_values = grad_output[edge_sources]\n",
        "        return None, grad_values, None, None, None\n",
        "\n",
        "class SparseNeighborhoodAggregation(nn.Module):\n",
        "    def forward(self, edge, edge_w, N, E, out_features):\n",
        "        return SNAFunction.apply(edge, edge_w, N, E, out_features)\n"
      ],
      "execution_count": 0,
      "outputs": []
    },
    {
      "cell_type": "markdown",
      "metadata": {
        "id": "ufNfvzGIUtSl",
        "colab_type": "text"
      },
      "source": [
        "![](https://i.imgur.com/2v9bxG1.png)"
      ]
    },
    {
      "cell_type": "code",
      "metadata": {
        "id": "hTnD7H2CHd-j",
        "colab_type": "code",
        "colab": {}
      },
      "source": [
        "class KGLayer(nn.Module):\n",
        "    def __init__(self, n_entities, n_relations, ent_embed, rel_embed, in_dim, out_dim, input_drop=0.5, concat=True, device=\"cuda\"):\n",
        "        super(KGLayer, self).__init__()\n",
        "\n",
        "        self.n_entities = n_entities\n",
        "        self.n_relations = n_relations\n",
        "        self.in_dim = in_dim\n",
        "        self.out_dim = out_dim\n",
        "        self.device = device\n",
        "\n",
        "        self.a = nn.Linear(3 * in_dim, out_dim).to(device)\n",
        "        nn.init.xavier_normal_(self.a.weight.data, gain=1.414)\n",
        "\n",
        "        self.concat = concat\n",
        "\n",
        "        self.a_2 = nn.Linear(out_dim, 1).to(device)\n",
        "        nn.init.xavier_normal_(self.a_2.weight.data, gain=1.414)\n",
        "\n",
        "        self.sparse_neighborhood_aggregation = SparseNeighborhoodAggregation()\n",
        "\n",
        "        self.ent_embed = nn.Embedding(n_entities, in_dim, max_norm=1, norm_type=2).to(device)\n",
        "        self.rel_embed = nn.Embedding(n_relations, in_dim, max_norm=1, norm_type=2).to(device)\n",
        "        \n",
        "        nn.init.xavier_normal_(self.ent_embed.weight.data, 1.414)\n",
        "        nn.init.xavier_normal_(self.rel_embed.weight.data, 1.414)\n",
        "        \n",
        "        # self.ent_embed.weight = nn.Parameter(ent_embed.to(\"cuda\"))\n",
        "        # self.rel_embed.weight = nn.Parameter(rel_embed.to(\"cuda\"))\n",
        "\n",
        "        self.input_drop = nn.Dropout(input_drop)\n",
        "\n",
        "        self.bn0 = nn.BatchNorm1d(3 * in_dim).to(device)\n",
        "        self.bn1 = nn.BatchNorm1d(out_dim).to(device)\n",
        "\n",
        "    \n",
        "    def forward(self, triplets):\n",
        "\n",
        "        N = self.n_entities\n",
        "\n",
        "        h = torch.cat((\n",
        "            self.ent_embed(triplets[:, 0]),\n",
        "            self.ent_embed(triplets[:, 1]),\n",
        "            self.rel_embed(triplets[:, 2])\n",
        "        ), dim=1)\n",
        "        h_ = torch.cat((\n",
        "            self.ent_embed(triplets[:, 1]),\n",
        "            self.ent_embed(triplets[:, 0]),\n",
        "           -self.rel_embed(triplets[:, 2])  \n",
        "        ), dim=1)\n",
        "        h = torch.cat((h, h_)) # should I check for the presence of t,h,r in triplets?\n",
        "\n",
        "        h = self.input_drop(self.bn0(h))\n",
        "        c = self.bn1(self.a(h))\n",
        "        b = -F.leaky_relu(self.a_2(c))\n",
        "        e_b = torch.exp(b)\n",
        "\n",
        "        temp = triplets.t()\n",
        "        edges = torch.stack((\n",
        "            torch.cat([temp[0], temp[1]]),\n",
        "            torch.cat([temp[1], temp[0]])\n",
        "        ))\n",
        "\n",
        "        ebs = self.sparse_neighborhood_aggregation(edges, e_b, N, e_b.shape[0], 1)\n",
        "        temp1 = e_b * c\n",
        "\n",
        "        hs = self.sparse_neighborhood_aggregation(edges, temp1,  N, e_b.shape[0], self.out_dim)\n",
        "\n",
        "        ebs[ebs == 0] = 1e-12\n",
        "        h_ent = hs / ebs\n",
        "\n",
        "        index = triplets[:, 2]\n",
        "        h_rel  = scatter(temp1[ : temp1.shape[0]//2, :], index=index, dim=0, reduce=\"mean\")\n",
        "        h_rel_ = scatter(temp1[temp1.shape[0]//2 : , :], index=index, dim=0, reduce=\"mean\")  \n",
        "\n",
        "        h_rel = h_rel - h_rel_  \n",
        "\n",
        "        if self.concat:\n",
        "            return F.elu(h_ent), F.elu(h_rel)\n",
        "        else:\n",
        "            return h_ent, h_rel"
      ],
      "execution_count": 0,
      "outputs": []
    },
    {
      "cell_type": "code",
      "metadata": {
        "id": "b004hFk2Hhhk",
        "colab_type": "code",
        "colab": {}
      },
      "source": [
        "model = KGLayer(n_ent, n_rel, ent_embed, rel_embed, 100, 100, 0.5, True, \"cuda\")"
      ],
      "execution_count": 0,
      "outputs": []
    },
    {
      "cell_type": "code",
      "metadata": {
        "id": "4jFJ8VF4HkH4",
        "colab_type": "code",
        "colab": {}
      },
      "source": [
        "optimizer = SGD(model.parameters(), lr=0.001)"
      ],
      "execution_count": 0,
      "outputs": []
    },
    {
      "cell_type": "code",
      "metadata": {
        "id": "Z7vFP2GgHm8u",
        "colab_type": "code",
        "outputId": "33133e7d-24dc-4f2f-c420-6911537ba914",
        "colab": {
          "base_uri": "https://localhost:8080/",
          "height": 188,
          "referenced_widgets": [
            "d4042b5127d84bc2a1c52161ac1b348d",
            "bebe2c05afe140988e2ccf691cdea437",
            "17678eb7802643eaa4263f5cf17177aa",
            "0cb753a1c3d94c5bb2402e3a7043a5bf",
            "c08a3a92272c405880e559593324f381",
            "1c18391fc0094b66b293bfeaf08d84a2",
            "7be86adb50f3482bb8b78a87359bd6f4",
            "a12290c78da64f3ea904b7e6f66c1841"
          ]
        }
      },
      "source": [
        "for epoch in tnrange(5):\n",
        "    losses = []\n",
        "    for i in range(len(batches)):\n",
        "        batch = batches[i]\n",
        "        triplets = torch.stack(batch)\n",
        "        triplets, labels, nodes, edges = negative_sampling(triplets, n_ent, args.negative_rate)\n",
        "        triplets, labels = triplets.to(args.device), labels.to(args.device)\n",
        "    \n",
        "        model.zero_grad()\n",
        "    \n",
        "        # start = time.time()\n",
        "        model.train()\n",
        "        ent_embed_, rel_embed_ = model(triplets)\n",
        "        loss = loss_transe(triplets, args.negative_rate, ent_embed_, rel_embed_, device=\"cuda\")\n",
        "        loss.backward()\n",
        "        optimizer.step()\n",
        "    \n",
        "        torch.cuda.empty_cache()\n",
        "    \n",
        "        losses.append(loss.item())\n",
        "        torch.cuda.empty_cache()\n",
        "    \n",
        "    print(f\"epoch: {epoch}, loss: {sum(losses) / len(losses)}\")\n",
        "    "
      ],
      "execution_count": 19,
      "outputs": [
        {
          "output_type": "stream",
          "text": [
            "/usr/local/lib/python3.6/dist-packages/ipykernel_launcher.py:1: TqdmDeprecationWarning: Please use `tqdm.notebook.trange` instead of `tqdm.tnrange`\n",
            "  \"\"\"Entry point for launching an IPython kernel.\n"
          ],
          "name": "stderr"
        },
        {
          "output_type": "display_data",
          "data": {
            "application/vnd.jupyter.widget-view+json": {
              "model_id": "d4042b5127d84bc2a1c52161ac1b348d",
              "version_minor": 0,
              "version_major": 2
            },
            "text/plain": [
              "HBox(children=(IntProgress(value=0, max=5), HTML(value='')))"
            ]
          },
          "metadata": {
            "tags": []
          }
        },
        {
          "output_type": "stream",
          "text": [
            "epoch: 0, loss: 4.533815588269915\n",
            "epoch: 1, loss: 4.530610629490444\n",
            "epoch: 2, loss: 4.5276216098240445\n",
            "epoch: 3, loss: 4.524810041700091\n",
            "epoch: 4, loss: 4.522953987121582\n",
            "\n"
          ],
          "name": "stdout"
        }
      ]
    },
    {
      "cell_type": "code",
      "metadata": {
        "id": "V3nC541cH3Ga",
        "colab_type": "code",
        "colab": {}
      },
      "source": [
        "torch.save(model.state_dict(), \"model.save\")"
      ],
      "execution_count": 0,
      "outputs": []
    },
    {
      "cell_type": "code",
      "metadata": {
        "id": "hrxC9XIpYGuh",
        "colab_type": "code",
        "outputId": "60942a91-b798-4724-de29-b60158668ffb",
        "colab": {
          "base_uri": "https://localhost:8080/",
          "height": 34
        }
      },
      "source": [
        "model.load_state_dict(torch.load(\"model.save\"))"
      ],
      "execution_count": 21,
      "outputs": [
        {
          "output_type": "execute_result",
          "data": {
            "text/plain": [
              "<All keys matched successfully>"
            ]
          },
          "metadata": {
            "tags": []
          },
          "execution_count": 21
        }
      ]
    },
    {
      "cell_type": "markdown",
      "metadata": {
        "id": "25Qa-Z6OcwRm",
        "colab_type": "text"
      },
      "source": [
        "## Evaluation"
      ]
    },
    {
      "cell_type": "code",
      "metadata": {
        "id": "PKG7s9TSlGyV",
        "colab_type": "code",
        "colab": {}
      },
      "source": [
        "def generate_eval_triplets(triplet: List[torch.Tensor], pos=\"head\", n_ent=14541):\n",
        "    if pos == \"head\":\n",
        "        triplet = torch.tensor([triplet[1].item(), triplet[2].item()]).to(torch.long)\n",
        "        triplets = triplet.repeat(n_ent).view(-1, 2).t()\n",
        "        triplets = torch.stack((\n",
        "            torch.arange(n_ent),\n",
        "            triplets[0], \n",
        "            triplets[1]\n",
        "        ))\n",
        "    elif pos == \"tail\":\n",
        "        triplet = torch.tensor([triplet[0].item(), triplet[2].item()]).to(torch.long)\n",
        "        triplets = triplet.repeat(n_ent).view(-1, 2).t()\n",
        "        triplets = torch.stack((\n",
        "            triplets[0], \n",
        "            torch.arange(n_ent),\n",
        "            triplets[1]\n",
        "        ))\n",
        "    \n",
        "    return triplets.t()"
      ],
      "execution_count": 0,
      "outputs": []
    },
    {
      "cell_type": "code",
      "metadata": {
        "id": "bMhxjrJiPlF2",
        "colab_type": "code",
        "colab": {}
      },
      "source": [
        "dl = DataLoader(kg_val, 1, shuffle=True)\n",
        "data = [d for d in dl]\n",
        "triplets = data[0]"
      ],
      "execution_count": 0,
      "outputs": []
    },
    {
      "cell_type": "code",
      "metadata": {
        "id": "dryKy8K6j0bl",
        "colab_type": "code",
        "colab": {
          "base_uri": "https://localhost:8080/",
          "height": 101,
          "referenced_widgets": [
            "c2bad778a05248e0bf5e9c8549dfaa4c",
            "d0955d076ce0493a8e53a3e928fa4bd6",
            "2b1ef7bd6f28470e80d44d5546c17a8b",
            "0df8ba9bd0e443859c6c628d2110a341",
            "de0122a2f46b4a269c7a5719957fadb9",
            "d6301bd44a274c538e9fad136c440e49",
            "69dde82793124d4582adff26248b4f1c",
            "d6a92c53a8b14453a2802070d36720d5"
          ]
        },
        "outputId": "fc50986f-62eb-4868-862b-0c6ee91cfb7d"
      },
      "source": [
        "# n = len(data)\n",
        "n = 1000\n",
        "n_dim = 100\n",
        "model.eval()\n",
        "with torch.no_grad():\n",
        "    for i in tnrange(n):\n",
        "        # # head\n",
        "        triplets_h = generate_eval_triplets(data[i], \"head\", n_ent)\n",
        "        triplets_h, _, _, _ = negative_sampling(triplets_h, n_ent, 0)\n",
        "        triplets_h = triplets_h.to(\"cuda\")\n",
        "        ee, re = model(triplets_h)\n",
        "    \n",
        "        dst = ee[data[i][1]].squeeze()\n",
        "        rel = re[data[i][2]].squeeze()\n",
        "        dist = ee + (rel - dst).repeat(n_ent).view(-1, 100)\n",
        "        head_preds = torch.topk(torch.norm(dist, dim=1), k=n_ent).indices.cpu().tolist()\n",
        "    \n",
        "        # # # # tail\n",
        "        triplets_t = generate_eval_triplets(data[i], \"tail\", n_ent)\n",
        "        triplets_t, _, _, _ = negative_sampling(triplets_t, n_ent, 0)\n",
        "        triplets_t = triplets_t.to(\"cuda\")\n",
        "        ee, re = model(triplets_t)\n",
        "    \n",
        "        src = ee[data[i][0]].squeeze()\n",
        "        rel = re[data[i][2]].squeeze()\n",
        "        dist = (src + rel).repeat(n_ent).view(-1, 100) - ee\n",
        "        tail_preds = torch.topk(torch.norm(dist, dim=1), k=n_ent).indices.cpu().tolist()"
      ],
      "execution_count": 28,
      "outputs": [
        {
          "output_type": "stream",
          "text": [
            "/usr/local/lib/python3.6/dist-packages/ipykernel_launcher.py:5: TqdmDeprecationWarning: Please use `tqdm.notebook.trange` instead of `tqdm.tnrange`\n",
            "  \"\"\"\n"
          ],
          "name": "stderr"
        },
        {
          "output_type": "display_data",
          "data": {
            "application/vnd.jupyter.widget-view+json": {
              "model_id": "c2bad778a05248e0bf5e9c8549dfaa4c",
              "version_minor": 0,
              "version_major": 2
            },
            "text/plain": [
              "HBox(children=(IntProgress(value=0, max=1000), HTML(value='')))"
            ]
          },
          "metadata": {
            "tags": []
          }
        },
        {
          "output_type": "stream",
          "text": [
            "\n"
          ],
          "name": "stdout"
        }
      ]
    },
    {
      "cell_type": "code",
      "metadata": {
        "id": "ulUiOVz-07zO",
        "colab_type": "code",
        "colab": {
          "base_uri": "https://localhost:8080/",
          "height": 139
        },
        "outputId": "00b41aab-4079-4742-e8cd-bcf62d62f3a6"
      },
      "source": [
        "triplets_t"
      ],
      "execution_count": 25,
      "outputs": [
        {
          "output_type": "execute_result",
          "data": {
            "text/plain": [
              "tensor([[14097,     0,   178],\n",
              "        [14097,     1,   178],\n",
              "        [14097,     2,   178],\n",
              "        ...,\n",
              "        [14097, 14538,   178],\n",
              "        [14097, 14539,   178],\n",
              "        [14097, 14540,   178]], device='cuda:0')"
            ]
          },
          "metadata": {
            "tags": []
          },
          "execution_count": 25
        }
      ]
    },
    {
      "cell_type": "code",
      "metadata": {
        "id": "_9OjR_7h30qe",
        "colab_type": "code",
        "colab": {
          "base_uri": "https://localhost:8080/",
          "height": 167
        },
        "outputId": "db19b2ee-f836-42b2-e792-fc92feeb1e6b"
      },
      "source": [
        "triplets_h"
      ],
      "execution_count": 27,
      "outputs": [
        {
          "output_type": "error",
          "ename": "NameError",
          "evalue": "ignored",
          "traceback": [
            "\u001b[0;31m---------------------------------------------------------------------------\u001b[0m",
            "\u001b[0;31mNameError\u001b[0m                                 Traceback (most recent call last)",
            "\u001b[0;32m<ipython-input-27-f7f47cb2ea15>\u001b[0m in \u001b[0;36m<module>\u001b[0;34m()\u001b[0m\n\u001b[0;32m----> 1\u001b[0;31m \u001b[0mtriplets_h\u001b[0m\u001b[0;34m\u001b[0m\u001b[0;34m\u001b[0m\u001b[0m\n\u001b[0m",
            "\u001b[0;31mNameError\u001b[0m: name 'triplets_h' is not defined"
          ]
        }
      ]
    },
    {
      "cell_type": "code",
      "metadata": {
        "id": "-SnahH3e352D",
        "colab_type": "code",
        "colab": {}
      },
      "source": [
        "torch.arange(20).cuda()"
      ],
      "execution_count": 0,
      "outputs": []
    },
    {
      "cell_type": "code",
      "metadata": {
        "id": "TjTCW7JM72yN",
        "colab_type": "code",
        "colab": {}
      },
      "source": [
        "for i in range(1):\n",
        "    print(8)"
      ],
      "execution_count": 0,
      "outputs": []
    },
    {
      "cell_type": "code",
      "metadata": {
        "id": "iTmfbHcR_OEs",
        "colab_type": "code",
        "colab": {}
      },
      "source": [
        ""
      ],
      "execution_count": 0,
      "outputs": []
    }
  ]
}